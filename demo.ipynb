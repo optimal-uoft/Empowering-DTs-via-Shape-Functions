{
 "cells": [
  {
   "cell_type": "code",
   "execution_count": null,
   "id": "7c9cc933",
   "metadata": {},
   "outputs": [],
   "source": [
    "import numpy as np\n",
    "import pandas as pd\n",
    "import matplotlib.pyplot as plt\n",
    "import seaborn as sns\n",
    "from sklearn.datasets import *\n",
    "from src.data_utils import *\n",
    "from sklearn.metrics import accuracy_score\n",
    "from src.ShapeCARTClassifier import ShapeCARTClassifier\n",
    "from sklearn.tree import DecisionTreeClassifier"
   ]
  },
  {
   "cell_type": "code",
   "execution_count": null,
   "id": "372e1601",
   "metadata": {},
   "outputs": [],
   "source": [
    "dataset = 'electricity'\n",
    "data_factory = DataFactory_clf(dataset=dataset, cache=False)\n",
    "X_train, y_train, X_val, y_val, X_test, y_test = data_factory.get_data(0)\n",
    "feature_dict = data_factory.feature_dict\n",
    "n_classes = len(np.unique(y_train))\n",
    "print(f\"n_classes: {n_classes}\")"
   ]
  },
  {
   "cell_type": "code",
   "execution_count": null,
   "id": "fad1ddf0",
   "metadata": {},
   "outputs": [],
   "source": [
    "feature_dict"
   ]
  },
  {
   "cell_type": "code",
   "execution_count": null,
   "id": "222516fd",
   "metadata": {},
   "outputs": [],
   "source": [
    "cart = DecisionTreeClassifier(max_depth=5, random_state=0)\n",
    "cart.fit(X_train, y_train)\n",
    "y_pred_train = cart.predict(X_train)\n",
    "y_pred = cart.predict(X_test)\n",
    "print(f\"Cart Train Accuracy: {accuracy_score(y_train, y_pred_train)}\")\n",
    "print(f\"Cart Test Accuracy: {accuracy_score(y_test, y_pred)}\")"
   ]
  },
  {
   "cell_type": "code",
   "execution_count": null,
   "id": "af02418e",
   "metadata": {},
   "outputs": [],
   "source": [
    "clf = ShapeCARTClassifier(\n",
    "    max_depth=5,\n",
    "    random_state=0,\n",
    ")\n",
    "# extra argument (feature_dict) can be passed to fit method to enable superset branching\n",
    "clf.fit(X_train, y_train, feature_dict=feature_dict) \n",
    "y_pred_train = clf.predict(X_train)\n",
    "y_pred = clf.predict(X_test)\n",
    "print(f\"ShapeCART Train Accuracy: {accuracy_score(y_train, y_pred_train)}\")\n",
    "print(f\"ShapeCART Test Accuracy: {accuracy_score(y_test, y_pred)}\")"
   ]
  },
  {
   "cell_type": "code",
   "execution_count": null,
   "id": "1174ccff",
   "metadata": {},
   "outputs": [],
   "source": [
    "clf = ShapeCARTClassifier(\n",
    "    max_depth=5,\n",
    "    random_state=0,\n",
    "    k=3 # k is the branching factor\n",
    ")\n",
    "clf.fit(X_train, y_train, feature_dict=feature_dict) \n",
    "y_pred_train = clf.predict(X_train)\n",
    "y_pred = clf.predict(X_test)\n",
    "print(f\"ShapeCART_3 Train Accuracy: {accuracy_score(y_train, y_pred_train)}\")\n",
    "print(f\"ShapeCART_3 Test Accuracy: {accuracy_score(y_test, y_pred)}\")"
   ]
  },
  {
   "cell_type": "code",
   "execution_count": null,
   "id": "0675ca12",
   "metadata": {},
   "outputs": [],
   "source": [
    "clf = ShapeCARTClassifier(\n",
    "    max_depth=5,\n",
    "    random_state=0,\n",
    "    pairwise_candidates=1.0 # consider X.shape[1] pairwise combinations of features at each node\n",
    ")\n",
    "clf.fit(X_train, y_train, feature_dict=feature_dict) \n",
    "y_pred_train = clf.predict(X_train)\n",
    "y_pred = clf.predict(X_test)\n",
    "print(f\"Shape2CART Train Accuracy: {accuracy_score(y_train, y_pred_train)}\")\n",
    "print(f\"Shape2CART Test Accuracy: {accuracy_score(y_test, y_pred)}\")"
   ]
  },
  {
   "cell_type": "code",
   "execution_count": null,
   "id": "7ec63f1b",
   "metadata": {},
   "outputs": [],
   "source": [
    "clf = ShapeCARTClassifier(\n",
    "    max_depth=5,\n",
    "    random_state=0,\n",
    "    pairwise_candidates=1.0, \n",
    "    k=3 \n",
    ")\n",
    "# extra argument (feature_dict) can be passed to fit method to enable superset branching\n",
    "clf.fit(X_train, y_train, feature_dict=feature_dict) \n",
    "y_pred_train = clf.predict(X_train)\n",
    "y_pred = clf.predict(X_test)\n",
    "print(f\"Shape2CART_3 Train Accuracy: {accuracy_score(y_train, y_pred_train)}\")\n",
    "print(f\"Shape2CART_3 Test Accuracy: {accuracy_score(y_test, y_pred)}\")"
   ]
  }
 ],
 "metadata": {
  "kernelspec": {
   "display_name": "NeuralSGT",
   "language": "python",
   "name": "python3"
  },
  "language_info": {
   "codemirror_mode": {
    "name": "ipython",
    "version": 3
   },
   "file_extension": ".py",
   "mimetype": "text/x-python",
   "name": "python",
   "nbconvert_exporter": "python",
   "pygments_lexer": "ipython3",
   "version": "3.11.13"
  }
 },
 "nbformat": 4,
 "nbformat_minor": 5
}

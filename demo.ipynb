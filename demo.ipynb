{
 "cells": [
  {
   "cell_type": "code",
   "execution_count": 1,
   "id": "7c9cc933",
   "metadata": {},
   "outputs": [],
   "source": [
    "import numpy as np\n",
    "import pandas as pd\n",
    "import matplotlib.pyplot as plt\n",
    "import seaborn as sns\n",
    "from sklearn.datasets import *\n",
    "from src.data_utils import *\n",
    "from sklearn.metrics import accuracy_score\n",
    "from src.ShapeCARTClassifier import ShapeCARTClassifier\n",
    "from sklearn.tree import DecisionTreeClassifier"
   ]
  },
  {
   "cell_type": "code",
   "execution_count": 2,
   "id": "372e1601",
   "metadata": {},
   "outputs": [
    {
     "name": "stdout",
     "output_type": "stream",
     "text": [
      "n_classes: 2\n"
     ]
    }
   ],
   "source": [
    "dataset = 'electricity'\n",
    "data_factory = DataFactory_clf(dataset=dataset, cache=False)\n",
    "X_train, y_train, X_val, y_val, X_test, y_test = data_factory.get_data(0)\n",
    "feature_dict = data_factory.feature_dict\n",
    "n_classes = len(np.unique(y_train))\n",
    "print(f\"n_classes: {n_classes}\")"
   ]
  },
  {
   "cell_type": "code",
   "execution_count": 3,
   "id": "fad1ddf0",
   "metadata": {},
   "outputs": [
    {
     "data": {
      "text/plain": [
       "{'date': [0],\n",
       " 'period': [1],\n",
       " 'nswprice': [2],\n",
       " 'nswdemand': [3],\n",
       " 'vicprice': [4],\n",
       " 'vicdemand': [5],\n",
       " 'transfer': [6],\n",
       " 'day': [7, 8, 9, 10, 11, 12]}"
      ]
     },
     "execution_count": 3,
     "metadata": {},
     "output_type": "execute_result"
    }
   ],
   "source": [
    "feature_dict"
   ]
  },
  {
   "cell_type": "code",
   "execution_count": 4,
   "id": "222516fd",
   "metadata": {},
   "outputs": [
    {
     "name": "stdout",
     "output_type": "stream",
     "text": [
      "Cart Train Accuracy: 0.7815751308405322\n",
      "Cart Test Accuracy: 0.7755710029791459\n"
     ]
    }
   ],
   "source": [
    "cart = DecisionTreeClassifier(max_depth=5, random_state=0)\n",
    "cart.fit(X_train, y_train)\n",
    "y_pred_train = cart.predict(X_train)\n",
    "y_pred = cart.predict(X_test)\n",
    "print(f\"Cart Train Accuracy: {accuracy_score(y_train, y_pred_train)}\")\n",
    "print(f\"Cart Test Accuracy: {accuracy_score(y_test, y_pred)}\")"
   ]
  },
  {
   "cell_type": "code",
   "execution_count": 5,
   "id": "af02418e",
   "metadata": {},
   "outputs": [
    {
     "name": "stdout",
     "output_type": "stream",
     "text": [
      "ShapeCART Train Accuracy: 0.86575446118923\n",
      "ShapeCART Test Accuracy: 0.8417742469381\n"
     ]
    }
   ],
   "source": [
    "clf = ShapeCARTClassifier(\n",
    "    max_depth=5,\n",
    "    random_state=0,\n",
    ")\n",
    "# extra argument (feature_dict) can be passed to fit method to enable superset branching\n",
    "clf.fit(X_train, y_train, feature_dict=feature_dict) \n",
    "y_pred_train = clf.predict(X_train)\n",
    "y_pred = clf.predict(X_test)\n",
    "print(f\"ShapeCART Train Accuracy: {accuracy_score(y_train, y_pred_train)}\")\n",
    "print(f\"ShapeCART Test Accuracy: {accuracy_score(y_test, y_pred)}\")"
   ]
  },
  {
   "cell_type": "code",
   "execution_count": 6,
   "id": "1174ccff",
   "metadata": {},
   "outputs": [
    {
     "name": "stdout",
     "output_type": "stream",
     "text": [
      "ShapeCART_3 Train Accuracy: 0.9109338545936062\n",
      "ShapeCART_3 Test Accuracy: 0.8636213174445548\n"
     ]
    }
   ],
   "source": [
    "clf = ShapeCARTClassifier(\n",
    "    max_depth=5,\n",
    "    random_state=0,\n",
    "    k=3 # k is the branching factor\n",
    ")\n",
    "clf.fit(X_train, y_train, feature_dict=feature_dict) \n",
    "y_pred_train = clf.predict(X_train)\n",
    "y_pred = clf.predict(X_test)\n",
    "print(f\"ShapeCART_3 Train Accuracy: {accuracy_score(y_train, y_pred_train)}\")\n",
    "print(f\"ShapeCART_3 Test Accuracy: {accuracy_score(y_test, y_pred)}\")"
   ]
  },
  {
   "cell_type": "code",
   "execution_count": 7,
   "id": "0675ca12",
   "metadata": {},
   "outputs": [
    {
     "name": "stdout",
     "output_type": "stream",
     "text": [
      "Shape2CART Train Accuracy: 0.8972823002711394\n",
      "Shape2CART Test Accuracy: 0.8660487697230498\n"
     ]
    }
   ],
   "source": [
    "clf = ShapeCARTClassifier(\n",
    "    max_depth=5,\n",
    "    random_state=0,\n",
    "    pairwise_candidates=1.0 # consider X.shape[1] pairwise combinations of features at each node\n",
    ")\n",
    "clf.fit(X_train, y_train, feature_dict=feature_dict) \n",
    "y_pred_train = clf.predict(X_train)\n",
    "y_pred = clf.predict(X_test)\n",
    "print(f\"Shape2CART Train Accuracy: {accuracy_score(y_train, y_pred_train)}\")\n",
    "print(f\"Shape2CART Test Accuracy: {accuracy_score(y_test, y_pred)}\")"
   ]
  },
  {
   "cell_type": "code",
   "execution_count": 8,
   "id": "7ec63f1b",
   "metadata": {},
   "outputs": [
    {
     "name": "stdout",
     "output_type": "stream",
     "text": [
      "Shape2CART_3 Train Accuracy: 0.9412951636294848\n",
      "Shape2CART_3 Test Accuracy: 0.8624075913053073\n"
     ]
    }
   ],
   "source": [
    "clf = ShapeCARTClassifier(\n",
    "    max_depth=5,\n",
    "    random_state=0,\n",
    "    pairwise_candidates=1.0, \n",
    "    k=3 \n",
    ")\n",
    "# extra argument (feature_dict) can be passed to fit method to enable superset branching\n",
    "clf.fit(X_train, y_train, feature_dict=feature_dict) \n",
    "y_pred_train = clf.predict(X_train)\n",
    "y_pred = clf.predict(X_test)\n",
    "print(f\"Shape2CART_3 Train Accuracy: {accuracy_score(y_train, y_pred_train)}\")\n",
    "print(f\"Shape2CART_3 Test Accuracy: {accuracy_score(y_test, y_pred)}\")"
   ]
  }
 ],
 "metadata": {
  "kernelspec": {
   "display_name": "EmpViaShapes",
   "language": "python",
   "name": "python3"
  },
  "language_info": {
   "codemirror_mode": {
    "name": "ipython",
    "version": 3
   },
   "file_extension": ".py",
   "mimetype": "text/x-python",
   "name": "python",
   "nbconvert_exporter": "python",
   "pygments_lexer": "ipython3",
   "version": "3.11.14"
  }
 },
 "nbformat": 4,
 "nbformat_minor": 5
}
